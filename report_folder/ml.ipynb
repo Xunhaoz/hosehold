{
 "cells": [
  {
   "cell_type": "code",
   "execution_count": 1,
   "id": "initial_id",
   "metadata": {
    "collapsed": true,
    "ExecuteTime": {
     "end_time": "2023-12-22T19:56:53.778342600Z",
     "start_time": "2023-12-22T19:56:50.771102100Z"
    }
   },
   "outputs": [],
   "source": [
    "import pandas as pd\n",
    "from sklearn.ensemble import ExtraTreesRegressor, BaggingRegressor, RandomForestRegressor, HistGradientBoostingRegressor, GradientBoostingRegressor, AdaBoostRegressor\n",
    "from sklearn.tree import DecisionTreeRegressor, ExtraTreeRegressor\n",
    "from sklearn.svm import SVR, NuSVR, LinearSVR\n",
    "from sklearn.neighbors import KNeighborsRegressor\n",
    "from sklearn.linear_model import RANSACRegressor, LinearRegression, HuberRegressor, SGDRegressor, GammaRegressor, PoissonRegressor, PassiveAggressiveRegressor, TheilSenRegressor, BayesianRidge, ARDRegression, TweedieRegressor, PassiveAggressiveClassifier, ElasticNet\n",
    "from sklearn.neural_network import MLPRegressor\n",
    "from sklearn.kernel_ridge import KernelRidge\n",
    "from sklearn.cross_decomposition import PLSRegression\n",
    "from sklearn.gaussian_process import GaussianProcessRegressor\n",
    "from tqdm import tqdm\n",
    "from sklearn.model_selection import cross_validate"
   ]
  },
  {
   "cell_type": "code",
   "execution_count": 2,
   "outputs": [
    {
     "data": {
      "text/plain": "        YEAR  PERSON  REL  SEX  AGE  EDU  IND  OCC  WKCLASS  WORK  WORKPLACE  \\\n0       2011       1    1    1   52    4   94    7        3     1          2   \n1       2011       1    1    1   17    6   55    5        2     1          2   \n2       2011       2    1    2   35    4   55    5        2     1          2   \n3       2011       1    1    1   72    1    3   63        3     1          2   \n4       2011       1    1    2   47    3    8    8        2     1          2   \n...      ...     ...  ...  ...  ...  ...  ...  ...      ...   ...        ...   \n290884  2021       3    3    2   24    7   64    3        2     1         63   \n290885  2021      51    3    2   21    5   55    5        2     1         17   \n290886  2021       1    5    2   61    6    0    0        8     2          0   \n290887  2021      31    1    2   36    8   45    3        2     1         63   \n290888  2021       1    1    2   47    6   94    3        2     1         63   \n\n        MRG  PT     ITM40  \n0        90   2  0.347617  \n1        91   2 -0.626388  \n2        90   2 -0.639083  \n3        90   2 -0.622557  \n4        94   2 -0.687500  \n...     ...  ..       ...  \n290884   91   2 -0.230407  \n290885   91   2 -0.654031  \n290886   97   2 -0.794130  \n290887   91   2 -0.348243  \n290888   97   2 -0.062631  \n\n[290870 rows x 14 columns]",
      "text/html": "<div>\n<style scoped>\n    .dataframe tbody tr th:only-of-type {\n        vertical-align: middle;\n    }\n\n    .dataframe tbody tr th {\n        vertical-align: top;\n    }\n\n    .dataframe thead th {\n        text-align: right;\n    }\n</style>\n<table border=\"1\" class=\"dataframe\">\n  <thead>\n    <tr style=\"text-align: right;\">\n      <th></th>\n      <th>YEAR</th>\n      <th>PERSON</th>\n      <th>REL</th>\n      <th>SEX</th>\n      <th>AGE</th>\n      <th>EDU</th>\n      <th>IND</th>\n      <th>OCC</th>\n      <th>WKCLASS</th>\n      <th>WORK</th>\n      <th>WORKPLACE</th>\n      <th>MRG</th>\n      <th>PT</th>\n      <th>ITM40</th>\n    </tr>\n  </thead>\n  <tbody>\n    <tr>\n      <th>0</th>\n      <td>2011</td>\n      <td>1</td>\n      <td>1</td>\n      <td>1</td>\n      <td>52</td>\n      <td>4</td>\n      <td>94</td>\n      <td>7</td>\n      <td>3</td>\n      <td>1</td>\n      <td>2</td>\n      <td>90</td>\n      <td>2</td>\n      <td>0.347617</td>\n    </tr>\n    <tr>\n      <th>1</th>\n      <td>2011</td>\n      <td>1</td>\n      <td>1</td>\n      <td>1</td>\n      <td>17</td>\n      <td>6</td>\n      <td>55</td>\n      <td>5</td>\n      <td>2</td>\n      <td>1</td>\n      <td>2</td>\n      <td>91</td>\n      <td>2</td>\n      <td>-0.626388</td>\n    </tr>\n    <tr>\n      <th>2</th>\n      <td>2011</td>\n      <td>2</td>\n      <td>1</td>\n      <td>2</td>\n      <td>35</td>\n      <td>4</td>\n      <td>55</td>\n      <td>5</td>\n      <td>2</td>\n      <td>1</td>\n      <td>2</td>\n      <td>90</td>\n      <td>2</td>\n      <td>-0.639083</td>\n    </tr>\n    <tr>\n      <th>3</th>\n      <td>2011</td>\n      <td>1</td>\n      <td>1</td>\n      <td>1</td>\n      <td>72</td>\n      <td>1</td>\n      <td>3</td>\n      <td>63</td>\n      <td>3</td>\n      <td>1</td>\n      <td>2</td>\n      <td>90</td>\n      <td>2</td>\n      <td>-0.622557</td>\n    </tr>\n    <tr>\n      <th>4</th>\n      <td>2011</td>\n      <td>1</td>\n      <td>1</td>\n      <td>2</td>\n      <td>47</td>\n      <td>3</td>\n      <td>8</td>\n      <td>8</td>\n      <td>2</td>\n      <td>1</td>\n      <td>2</td>\n      <td>94</td>\n      <td>2</td>\n      <td>-0.687500</td>\n    </tr>\n    <tr>\n      <th>...</th>\n      <td>...</td>\n      <td>...</td>\n      <td>...</td>\n      <td>...</td>\n      <td>...</td>\n      <td>...</td>\n      <td>...</td>\n      <td>...</td>\n      <td>...</td>\n      <td>...</td>\n      <td>...</td>\n      <td>...</td>\n      <td>...</td>\n      <td>...</td>\n    </tr>\n    <tr>\n      <th>290884</th>\n      <td>2021</td>\n      <td>3</td>\n      <td>3</td>\n      <td>2</td>\n      <td>24</td>\n      <td>7</td>\n      <td>64</td>\n      <td>3</td>\n      <td>2</td>\n      <td>1</td>\n      <td>63</td>\n      <td>91</td>\n      <td>2</td>\n      <td>-0.230407</td>\n    </tr>\n    <tr>\n      <th>290885</th>\n      <td>2021</td>\n      <td>51</td>\n      <td>3</td>\n      <td>2</td>\n      <td>21</td>\n      <td>5</td>\n      <td>55</td>\n      <td>5</td>\n      <td>2</td>\n      <td>1</td>\n      <td>17</td>\n      <td>91</td>\n      <td>2</td>\n      <td>-0.654031</td>\n    </tr>\n    <tr>\n      <th>290886</th>\n      <td>2021</td>\n      <td>1</td>\n      <td>5</td>\n      <td>2</td>\n      <td>61</td>\n      <td>6</td>\n      <td>0</td>\n      <td>0</td>\n      <td>8</td>\n      <td>2</td>\n      <td>0</td>\n      <td>97</td>\n      <td>2</td>\n      <td>-0.794130</td>\n    </tr>\n    <tr>\n      <th>290887</th>\n      <td>2021</td>\n      <td>31</td>\n      <td>1</td>\n      <td>2</td>\n      <td>36</td>\n      <td>8</td>\n      <td>45</td>\n      <td>3</td>\n      <td>2</td>\n      <td>1</td>\n      <td>63</td>\n      <td>91</td>\n      <td>2</td>\n      <td>-0.348243</td>\n    </tr>\n    <tr>\n      <th>290888</th>\n      <td>2021</td>\n      <td>1</td>\n      <td>1</td>\n      <td>2</td>\n      <td>47</td>\n      <td>6</td>\n      <td>94</td>\n      <td>3</td>\n      <td>2</td>\n      <td>1</td>\n      <td>63</td>\n      <td>97</td>\n      <td>2</td>\n      <td>-0.062631</td>\n    </tr>\n  </tbody>\n</table>\n<p>290870 rows × 14 columns</p>\n</div>"
     },
     "execution_count": 2,
     "metadata": {},
     "output_type": "execute_result"
    }
   ],
   "source": [
    "all = pd.read_csv('../data/raw/all.csv')\n",
    "all = all.drop(columns=['IMR', 'ID'])\n",
    "\n",
    "all['MRG'] = all['MRG'].apply(lambda x: x if x in [91, 92, 93, 94, 95, 96, 97] else 90)\n",
    "\n",
    "for k in all['REL'].value_counts().keys()[-1:]:\n",
    "    all = all[all['REL'] != k]\n",
    "\n",
    "for k in all['WORKPLACE'].value_counts().keys()[-2:]:\n",
    "    all = all[all['WORKPLACE'] != k]\n",
    "\n",
    "ITM40_mean, ITM40_std = all['ITM40'].mean(), all['ITM40'].std()\n",
    "all['ITM40'] = (all['ITM40'] - ITM40_mean) / ITM40_std\n",
    "all"
   ],
   "metadata": {
    "collapsed": false,
    "ExecuteTime": {
     "end_time": "2023-12-22T19:56:54.088698400Z",
     "start_time": "2023-12-22T19:56:53.780371500Z"
    }
   },
   "id": "227f0a3f6f8eb245"
  },
  {
   "cell_type": "code",
   "execution_count": 3,
   "outputs": [],
   "source": [
    "X, Y = all.iloc[:, :-1], all.iloc[:, -1] "
   ],
   "metadata": {
    "collapsed": false,
    "ExecuteTime": {
     "end_time": "2023-12-22T19:56:54.114232100Z",
     "start_time": "2023-12-22T19:56:54.092210500Z"
    }
   },
   "id": "7833d03a825fcd7f"
  },
  {
   "cell_type": "code",
   "execution_count": 4,
   "outputs": [
    {
     "data": {
      "text/plain": "        Prefix_2011  Prefix_2012  Prefix_2013  Prefix_2014  Prefix_2015  \\\n0              True        False        False        False        False   \n1              True        False        False        False        False   \n2              True        False        False        False        False   \n3              True        False        False        False        False   \n4              True        False        False        False        False   \n...             ...          ...          ...          ...          ...   \n290884        False        False        False        False        False   \n290885        False        False        False        False        False   \n290886        False        False        False        False        False   \n290887        False        False        False        False        False   \n290888        False        False        False        False        False   \n\n        Prefix_2016  Prefix_2017  Prefix_2018  Prefix_2019  Prefix_2020  ...  \\\n0             False        False        False        False        False  ...   \n1             False        False        False        False        False  ...   \n2             False        False        False        False        False  ...   \n3             False        False        False        False        False  ...   \n4             False        False        False        False        False  ...   \n...             ...          ...          ...          ...          ...  ...   \n290884        False        False        False        False        False  ...   \n290885        False        False        False        False        False  ...   \n290886        False        False        False        False        False  ...   \n290887        False        False        False        False        False  ...   \n290888        False        False        False        False        False  ...   \n\n        Prefix_90  Prefix_91  Prefix_92  Prefix_93  Prefix_94  Prefix_95  \\\n0            True      False      False      False      False      False   \n1           False       True      False      False      False      False   \n2            True      False      False      False      False      False   \n3            True      False      False      False      False      False   \n4           False      False      False      False       True      False   \n...           ...        ...        ...        ...        ...        ...   \n290884      False       True      False      False      False      False   \n290885      False       True      False      False      False      False   \n290886      False      False      False      False      False      False   \n290887      False       True      False      False      False      False   \n290888      False      False      False      False      False      False   \n\n        Prefix_96  Prefix_97  Prefix_1  Prefix_2  \n0           False      False     False      True  \n1           False      False     False      True  \n2           False      False     False      True  \n3           False      False     False      True  \n4           False      False     False      True  \n...           ...        ...       ...       ...  \n290884      False      False     False      True  \n290885      False      False     False      True  \n290886      False       True     False      True  \n290887      False      False     False      True  \n290888      False       True     False      True  \n\n[290870 rows x 244 columns]",
      "text/html": "<div>\n<style scoped>\n    .dataframe tbody tr th:only-of-type {\n        vertical-align: middle;\n    }\n\n    .dataframe tbody tr th {\n        vertical-align: top;\n    }\n\n    .dataframe thead th {\n        text-align: right;\n    }\n</style>\n<table border=\"1\" class=\"dataframe\">\n  <thead>\n    <tr style=\"text-align: right;\">\n      <th></th>\n      <th>Prefix_2011</th>\n      <th>Prefix_2012</th>\n      <th>Prefix_2013</th>\n      <th>Prefix_2014</th>\n      <th>Prefix_2015</th>\n      <th>Prefix_2016</th>\n      <th>Prefix_2017</th>\n      <th>Prefix_2018</th>\n      <th>Prefix_2019</th>\n      <th>Prefix_2020</th>\n      <th>...</th>\n      <th>Prefix_90</th>\n      <th>Prefix_91</th>\n      <th>Prefix_92</th>\n      <th>Prefix_93</th>\n      <th>Prefix_94</th>\n      <th>Prefix_95</th>\n      <th>Prefix_96</th>\n      <th>Prefix_97</th>\n      <th>Prefix_1</th>\n      <th>Prefix_2</th>\n    </tr>\n  </thead>\n  <tbody>\n    <tr>\n      <th>0</th>\n      <td>True</td>\n      <td>False</td>\n      <td>False</td>\n      <td>False</td>\n      <td>False</td>\n      <td>False</td>\n      <td>False</td>\n      <td>False</td>\n      <td>False</td>\n      <td>False</td>\n      <td>...</td>\n      <td>True</td>\n      <td>False</td>\n      <td>False</td>\n      <td>False</td>\n      <td>False</td>\n      <td>False</td>\n      <td>False</td>\n      <td>False</td>\n      <td>False</td>\n      <td>True</td>\n    </tr>\n    <tr>\n      <th>1</th>\n      <td>True</td>\n      <td>False</td>\n      <td>False</td>\n      <td>False</td>\n      <td>False</td>\n      <td>False</td>\n      <td>False</td>\n      <td>False</td>\n      <td>False</td>\n      <td>False</td>\n      <td>...</td>\n      <td>False</td>\n      <td>True</td>\n      <td>False</td>\n      <td>False</td>\n      <td>False</td>\n      <td>False</td>\n      <td>False</td>\n      <td>False</td>\n      <td>False</td>\n      <td>True</td>\n    </tr>\n    <tr>\n      <th>2</th>\n      <td>True</td>\n      <td>False</td>\n      <td>False</td>\n      <td>False</td>\n      <td>False</td>\n      <td>False</td>\n      <td>False</td>\n      <td>False</td>\n      <td>False</td>\n      <td>False</td>\n      <td>...</td>\n      <td>True</td>\n      <td>False</td>\n      <td>False</td>\n      <td>False</td>\n      <td>False</td>\n      <td>False</td>\n      <td>False</td>\n      <td>False</td>\n      <td>False</td>\n      <td>True</td>\n    </tr>\n    <tr>\n      <th>3</th>\n      <td>True</td>\n      <td>False</td>\n      <td>False</td>\n      <td>False</td>\n      <td>False</td>\n      <td>False</td>\n      <td>False</td>\n      <td>False</td>\n      <td>False</td>\n      <td>False</td>\n      <td>...</td>\n      <td>True</td>\n      <td>False</td>\n      <td>False</td>\n      <td>False</td>\n      <td>False</td>\n      <td>False</td>\n      <td>False</td>\n      <td>False</td>\n      <td>False</td>\n      <td>True</td>\n    </tr>\n    <tr>\n      <th>4</th>\n      <td>True</td>\n      <td>False</td>\n      <td>False</td>\n      <td>False</td>\n      <td>False</td>\n      <td>False</td>\n      <td>False</td>\n      <td>False</td>\n      <td>False</td>\n      <td>False</td>\n      <td>...</td>\n      <td>False</td>\n      <td>False</td>\n      <td>False</td>\n      <td>False</td>\n      <td>True</td>\n      <td>False</td>\n      <td>False</td>\n      <td>False</td>\n      <td>False</td>\n      <td>True</td>\n    </tr>\n    <tr>\n      <th>...</th>\n      <td>...</td>\n      <td>...</td>\n      <td>...</td>\n      <td>...</td>\n      <td>...</td>\n      <td>...</td>\n      <td>...</td>\n      <td>...</td>\n      <td>...</td>\n      <td>...</td>\n      <td>...</td>\n      <td>...</td>\n      <td>...</td>\n      <td>...</td>\n      <td>...</td>\n      <td>...</td>\n      <td>...</td>\n      <td>...</td>\n      <td>...</td>\n      <td>...</td>\n      <td>...</td>\n    </tr>\n    <tr>\n      <th>290884</th>\n      <td>False</td>\n      <td>False</td>\n      <td>False</td>\n      <td>False</td>\n      <td>False</td>\n      <td>False</td>\n      <td>False</td>\n      <td>False</td>\n      <td>False</td>\n      <td>False</td>\n      <td>...</td>\n      <td>False</td>\n      <td>True</td>\n      <td>False</td>\n      <td>False</td>\n      <td>False</td>\n      <td>False</td>\n      <td>False</td>\n      <td>False</td>\n      <td>False</td>\n      <td>True</td>\n    </tr>\n    <tr>\n      <th>290885</th>\n      <td>False</td>\n      <td>False</td>\n      <td>False</td>\n      <td>False</td>\n      <td>False</td>\n      <td>False</td>\n      <td>False</td>\n      <td>False</td>\n      <td>False</td>\n      <td>False</td>\n      <td>...</td>\n      <td>False</td>\n      <td>True</td>\n      <td>False</td>\n      <td>False</td>\n      <td>False</td>\n      <td>False</td>\n      <td>False</td>\n      <td>False</td>\n      <td>False</td>\n      <td>True</td>\n    </tr>\n    <tr>\n      <th>290886</th>\n      <td>False</td>\n      <td>False</td>\n      <td>False</td>\n      <td>False</td>\n      <td>False</td>\n      <td>False</td>\n      <td>False</td>\n      <td>False</td>\n      <td>False</td>\n      <td>False</td>\n      <td>...</td>\n      <td>False</td>\n      <td>False</td>\n      <td>False</td>\n      <td>False</td>\n      <td>False</td>\n      <td>False</td>\n      <td>False</td>\n      <td>True</td>\n      <td>False</td>\n      <td>True</td>\n    </tr>\n    <tr>\n      <th>290887</th>\n      <td>False</td>\n      <td>False</td>\n      <td>False</td>\n      <td>False</td>\n      <td>False</td>\n      <td>False</td>\n      <td>False</td>\n      <td>False</td>\n      <td>False</td>\n      <td>False</td>\n      <td>...</td>\n      <td>False</td>\n      <td>True</td>\n      <td>False</td>\n      <td>False</td>\n      <td>False</td>\n      <td>False</td>\n      <td>False</td>\n      <td>False</td>\n      <td>False</td>\n      <td>True</td>\n    </tr>\n    <tr>\n      <th>290888</th>\n      <td>False</td>\n      <td>False</td>\n      <td>False</td>\n      <td>False</td>\n      <td>False</td>\n      <td>False</td>\n      <td>False</td>\n      <td>False</td>\n      <td>False</td>\n      <td>False</td>\n      <td>...</td>\n      <td>False</td>\n      <td>False</td>\n      <td>False</td>\n      <td>False</td>\n      <td>False</td>\n      <td>False</td>\n      <td>False</td>\n      <td>True</td>\n      <td>False</td>\n      <td>True</td>\n    </tr>\n  </tbody>\n</table>\n<p>290870 rows × 244 columns</p>\n</div>"
     },
     "execution_count": 4,
     "metadata": {},
     "output_type": "execute_result"
    }
   ],
   "source": [
    "df_encoded = pd.get_dummies(X, columns=list(X.columns), prefix='Prefix')\n",
    "df_encoded"
   ],
   "metadata": {
    "collapsed": false,
    "ExecuteTime": {
     "end_time": "2023-12-22T19:56:54.294192700Z",
     "start_time": "2023-12-22T19:56:54.105720200Z"
    }
   },
   "id": "b8ae49cc401cf847"
  },
  {
   "cell_type": "code",
   "execution_count": 5,
   "outputs": [
    {
     "data": {
      "text/plain": "0         0.347617\n1        -0.626388\n2        -0.639083\n3        -0.622557\n4        -0.687500\n            ...   \n290884   -0.230407\n290885   -0.654031\n290886   -0.794130\n290887   -0.348243\n290888   -0.062631\nName: ITM40, Length: 290870, dtype: float64"
     },
     "execution_count": 5,
     "metadata": {},
     "output_type": "execute_result"
    }
   ],
   "source": [
    "Y"
   ],
   "metadata": {
    "collapsed": false,
    "ExecuteTime": {
     "end_time": "2023-12-22T19:56:54.308878400Z",
     "start_time": "2023-12-22T19:56:54.295196300Z"
    }
   },
   "id": "3c65f801892aa578"
  },
  {
   "cell_type": "code",
   "execution_count": 6,
   "outputs": [],
   "source": [
    "model_ExtraTreesRegressor = ExtraTreesRegressor()\n",
    "model_RandomForestRegressor = RandomForestRegressor()\n",
    "model_BaggingRegressor = BaggingRegressor()\n",
    "model_HistGradientBoostingRegressor = HistGradientBoostingRegressor()\n",
    "model_GradientBoostingRegressor = GradientBoostingRegressor()\n",
    "model_DecisionTreeRegressor = DecisionTreeRegressor()\n",
    "model_SVR = SVR()\n",
    "model_NuSVR = NuSVR()\n",
    "model_ExtraTreeRegressor = ExtraTreeRegressor()\n",
    "model_MLPRegressor = MLPRegressor()\n",
    "model_KNeighborsRegressor = KNeighborsRegressor()\n",
    "model_LinearSVR = LinearSVR()\n",
    "model_HuberRegressor = HuberRegressor()\n",
    "model_TheilSenRegressor = TheilSenRegressor()\n",
    "model_BayesianRidge = BayesianRidge()\n",
    "model_KernelRidge = KernelRidge()\n",
    "model_LinearRegression = LinearRegression()\n",
    "model_SGDRegressor = SGDRegressor()\n",
    "model_ARDRegression = ARDRegression()\n",
    "model_PoissonRegressor = PoissonRegressor()\n",
    "model_GammaRegressor = GammaRegressor()\n",
    "model_RANSACRegressor = RANSACRegressor()\n",
    "model_PLSRegression = PLSRegression()\n",
    "model_PassiveAggressiveRegressor = PassiveAggressiveRegressor()\n",
    "model_TweedieRegressor = TweedieRegressor()\n",
    "model_AdaBoostRegressor = AdaBoostRegressor()\n",
    "model_PassiveAggressiveClassifier = PassiveAggressiveClassifier()\n",
    "model_ElasticNet = ElasticNet()\n",
    "model_GaussianProcessRegressor = GaussianProcessRegressor()\n",
    "\n",
    "\n",
    "\n",
    "model_list = [model_ExtraTreesRegressor,model_RandomForestRegressor,model_BaggingRegressor,model_HistGradientBoostingRegressor,model_GradientBoostingRegressor,model_DecisionTreeRegressor,model_SVR,model_NuSVR,model_ExtraTreeRegressor,model_MLPRegressor,model_KNeighborsRegressor,model_LinearSVR,model_HuberRegressor,model_TheilSenRegressor,model_BayesianRidge,model_KernelRidge,model_LinearRegression,model_SGDRegressor,model_ARDRegression,model_PoissonRegressor,model_GammaRegressor,model_RANSACRegressor,model_PLSRegression,model_PassiveAggressiveRegressor,model_TweedieRegressor,model_AdaBoostRegressor,model_PassiveAggressiveClassifier,model_ElasticNet,model_GaussianProcessRegressor]"
   ],
   "metadata": {
    "collapsed": false,
    "ExecuteTime": {
     "end_time": "2023-12-22T19:56:54.351476200Z",
     "start_time": "2023-12-22T19:56:54.312389100Z"
    }
   },
   "id": "1fe699015bd855b5"
  },
  {
   "cell_type": "code",
   "execution_count": 7,
   "outputs": [
    {
     "name": "stderr",
     "output_type": "stream",
     "text": [
      "100%|██████████| 29/29 [00:00<?, ?it/s]\n"
     ]
    }
   ],
   "source": [
    "result = []\n",
    "for model in tqdm(model_list):\n",
    "    result.append([model.__class__.__name__, 1, 2])\n",
    "    continue\n",
    "    res = cross_validate(model, X, Y, n_jobs=-1, verbose=1, return_train_score=True, scoring='neg_mean_absolute_error')\n",
    "    test_score = -res['test_score'].mean()\n",
    "    train_score = -res['train_score'].mean()\n",
    "    result.append([model.__class__.__name__, test_score, train_score])"
   ],
   "metadata": {
    "collapsed": false,
    "ExecuteTime": {
     "end_time": "2023-12-22T19:56:54.392469800Z",
     "start_time": "2023-12-22T19:56:54.323539700Z"
    }
   },
   "id": "bfd10d387c0fa69"
  },
  {
   "cell_type": "code",
   "execution_count": 8,
   "outputs": [],
   "source": [
    "pd.DataFrame(result, columns=[\"name\", \"test_score\", \"train_score\"]).to_csv(\"models\")"
   ],
   "metadata": {
    "collapsed": false,
    "ExecuteTime": {
     "end_time": "2023-12-22T19:56:54.419674600Z",
     "start_time": "2023-12-22T19:56:54.340450700Z"
    }
   },
   "id": "ec3136c18d0fffb9"
  }
 ],
 "metadata": {
  "kernelspec": {
   "display_name": "Python 3",
   "language": "python",
   "name": "python3"
  },
  "language_info": {
   "codemirror_mode": {
    "name": "ipython",
    "version": 2
   },
   "file_extension": ".py",
   "mimetype": "text/x-python",
   "name": "python",
   "nbconvert_exporter": "python",
   "pygments_lexer": "ipython2",
   "version": "2.7.6"
  }
 },
 "nbformat": 4,
 "nbformat_minor": 5
}
